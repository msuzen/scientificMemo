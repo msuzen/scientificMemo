{
 "cells": [
  {
   "cell_type": "markdown",
   "id": "a2ab788c-dfea-4638-ae29-7ae22b8f3d32",
   "metadata": {},
   "source": [
    "# Probability of correct classification \n",
    "\n",
    "[link to post](https://memosisland.blogspot.com/2020/02/a-simple-and-interpretable-performance.html)\n",
    "\n",
    "$PCC=\\alpha \\cdot TPR + (1-\\alpha) \\cdot TNR$\n",
    "\n",
    "$TPR=TP/(ConditionPositive)=TP/(TP+FN)$ (Positive predictive value (PPV))   \n",
    "$TNR=TN/(ConditionNegative)=TN/(TN+FP)$ (Negative predictive value (NPV)   \n"
   ]
  },
  {
   "cell_type": "code",
   "execution_count": null,
   "id": "8d413bdf-4e25-407a-8afa-bc1b7cf583ed",
   "metadata": {},
   "outputs": [],
   "source": [
    "import numpy as np  \n",
    "import matplotlib.pylab as plt  \n",
    "import matplotlib  \n",
    "import sklearn\n",
    "from sklearn.metrics import confusion_matrix\n",
    "import sys\n",
    "np.__version__, matplotlib.__version__, sklearn.__version__, sys.version"
   ]
  },
  {
   "cell_type": "code",
   "execution_count": null,
   "id": "829b9e86",
   "metadata": {},
   "outputs": [],
   "source": [
    "\n",
    "\n",
    "from sklearn.metrics import confusion_matrix\n",
    "import numpy as np \n",
    "\n",
    "def pcc(true_labels, predict_labels, alpha=0.5):\n",
    "    \"\"\" \n",
    "    Probability of Correct Classification (PCC)\n",
    "    Probability of classifier's predictive correctness. \n",
    "    $PCC=\\alpha \\cdot TPR + (1-\\alpha) \\cdot TNR$\n",
    "    \n",
    "    alpha: Cost of positive instances, default to 0.5\n",
    "    \n",
    "    Author: M. Suzen \n",
    "    \n",
    "    \"\"\"\n",
    "    tn, fp, fn, tp  = confusion_matrix(true_labels, predict_labels).ravel()\n",
    "    tpr = tp/(tp+fn) \n",
    "    tnr = tn/(tn+fp)\n",
    "    return  alpha*tpr+(1.-alpha)*tnr\n"
   ]
  },
  {
   "cell_type": "code",
   "execution_count": null,
   "id": "7d091491",
   "metadata": {},
   "outputs": [],
   "source": [
    "#\n",
    "# Classifer with pcc: ~0.85\n",
    "#\n",
    "np.random.seed(4242)\n",
    "contaminate = 0.7\n",
    "nsample = 1000\n",
    "true_labels = np.random.choice([0,1], nsample, replace=True)\n",
    "# Contaiminate 30% and make a prediction label\n",
    "error_labels = np.random.choice([0,1], int(contaminate*nsample), replace=True)\n",
    "ntrue = int((1.0-contaminate)*nsample)\n",
    "predict_labels = np.hstack([true_labels[0:ntrue], error_labels])\n",
    "pcc(true_labels, predict_labels)\n"
   ]
  },
  {
   "cell_type": "code",
   "execution_count": null,
   "id": "e8b50aa2",
   "metadata": {},
   "outputs": [],
   "source": [
    "# Compare with standard metrics\n",
    "from sklearn.metrics import classification_report\n",
    "print(classification_report(true_labels, predict_labels))\n"
   ]
  }
 ],
 "metadata": {
  "kernelspec": {
   "display_name": "Python 3 (ipykernel)",
   "language": "python",
   "name": "python3"
  },
  "language_info": {
   "codemirror_mode": {
    "name": "ipython",
    "version": 3
   },
   "file_extension": ".py",
   "mimetype": "text/x-python",
   "name": "python",
   "nbconvert_exporter": "python",
   "pygments_lexer": "ipython3",
   "version": "3.10.13"
  }
 },
 "nbformat": 4,
 "nbformat_minor": 5
}
